{
 "cells": [
  {
   "cell_type": "markdown",
   "metadata": {
    "toc": true
   },
   "source": [
    "<h1>Table of Contents<span class=\"tocSkip\"></span></h1>\n",
    "<div class=\"toc\"><ul class=\"toc-item\"><li><span><a href=\"#初步探索数据\" data-toc-modified-id=\"初步探索数据-1\"><span class=\"toc-item-num\">1&nbsp;&nbsp;</span>初步探索数据</a></span><ul class=\"toc-item\"><li><span><a href=\"#数据描述\" data-toc-modified-id=\"数据描述-1.1\"><span class=\"toc-item-num\">1.1&nbsp;&nbsp;</span>数据描述</a></span></li><li><span><a href=\"#标签数量\" data-toc-modified-id=\"标签数量-1.2\"><span class=\"toc-item-num\">1.2&nbsp;&nbsp;</span>标签数量</a></span></li><li><span><a href=\"#数据问题\" data-toc-modified-id=\"数据问题-1.3\"><span class=\"toc-item-num\">1.3&nbsp;&nbsp;</span>数据问题</a></span></li><li><span><a href=\"#导入数据库\" data-toc-modified-id=\"导入数据库-1.4\"><span class=\"toc-item-num\">1.4&nbsp;&nbsp;</span>导入数据库</a></span></li></ul></li><li><span><a href=\"#数据概述\" data-toc-modified-id=\"数据概述-2\"><span class=\"toc-item-num\">2&nbsp;&nbsp;</span>数据概述</a></span><ul class=\"toc-item\"><li><span><a href=\"#文件大小\" data-toc-modified-id=\"文件大小-2.1\"><span class=\"toc-item-num\">2.1&nbsp;&nbsp;</span>文件大小</a></span></li><li><span><a href=\"#各种数量统计\" data-toc-modified-id=\"各种数量统计-2.2\"><span class=\"toc-item-num\">2.2&nbsp;&nbsp;</span>各种数量统计</a></span></li></ul></li><li><span><a href=\"#关于数据集的其他想法\" data-toc-modified-id=\"关于数据集的其他想法-3\"><span class=\"toc-item-num\">3&nbsp;&nbsp;</span>关于数据集的其他想法</a></span><ul class=\"toc-item\"><li><span><a href=\"#改进或分析数据的建议\" data-toc-modified-id=\"改进或分析数据的建议-3.1\"><span class=\"toc-item-num\">3.1&nbsp;&nbsp;</span>改进或分析数据的建议</a></span></li><li><span><a href=\"#所选节点类型的数量统计\" data-toc-modified-id=\"所选节点类型的数量统计-3.2\"><span class=\"toc-item-num\">3.2&nbsp;&nbsp;</span>所选节点类型的数量统计</a></span></li></ul></li><li><span><a href=\"#总结\" data-toc-modified-id=\"总结-4\"><span class=\"toc-item-num\">4&nbsp;&nbsp;</span>总结</a></span></li><li><span><a href=\"#参考\" data-toc-modified-id=\"参考-5\"><span class=\"toc-item-num\">5&nbsp;&nbsp;</span>参考</a></span></li></ul></div>"
   ]
  },
  {
   "cell_type": "markdown",
   "metadata": {},
   "source": [
    "## 初步探索数据"
   ]
  },
  {
   "cell_type": "markdown",
   "metadata": {},
   "source": [
    "### 数据描述\n",
    "选取了广州市的地图数据，因为广州市我最熟悉的城市，在清理和整理数据方面会更容易发现数据的问题，而不是通过猜测和估计，如一些地址和地名的问题。我选择广州市区的地图数据，主要包括海珠区、荔湾区、越秀区、天河区、白云区和番禺区的部分地区，为了使地图数据文件大小超过50MB。\n",
    "\n",
    "**地图链接**\n",
    "- https://www.openstreetmap.org/#map=13/23.1118/113.3265\n",
    "- https://overpass-api.de/api/map?bbox=113.2193,23.0548,113.4338,23.1688"
   ]
  },
  {
   "cell_type": "markdown",
   "metadata": {},
   "source": [
    "### 标签数量"
   ]
  },
  {
   "cell_type": "code",
   "execution_count": 8,
   "metadata": {
    "code_folding": []
   },
   "outputs": [
    {
     "name": "stdout",
     "output_type": "stream",
     "text": [
      "{'bounds': 1,\n",
      " 'member': 90313,\n",
      " 'meta': 1,\n",
      " 'nd': 247396,\n",
      " 'node': 211387,\n",
      " 'note': 1,\n",
      " 'osm': 1,\n",
      " 'relation': 1470,\n",
      " 'tag': 93489,\n",
      " 'way': 28780}\n"
     ]
    }
   ],
   "source": [
    "! python tags.py"
   ]
  },
  {
   "cell_type": "markdown",
   "metadata": {},
   "source": [
    "### 数据问题 "
   ]
  },
  {
   "cell_type": "markdown",
   "metadata": {},
   "source": [
    "审查数据质量，发现地址的问题有这些："
   ]
  },
  {
   "cell_type": "code",
   "execution_count": 9,
   "metadata": {},
   "outputs": [
    {
     "name": "stdout",
     "output_type": "stream",
     "text": [
      "{'lower': 82253, 'lower_colon': 11123, 'other': 113, 'problemchars': 0}\n"
     ]
    }
   ],
   "source": [
    "! python key_problem.py"
   ]
  },
  {
   "cell_type": "code",
   "execution_count": 1,
   "metadata": {},
   "outputs": [
    {
     "name": "stdout",
     "output_type": "stream",
     "text": [
      "{'39': set(['Hong Road No 39']),\r\n",
      " u'510610': set([u'China, Guangdong Sheng, Guangzhou Shi, Tianhe Qu, TianHe GongYuan, Tianhe Rd, \\u592a\\u53e4\\u6c47L307\\u53f7, \\u90ae\\u653f\\u7f16\\u7801: 510610']),\r\n",
      " 'Bilu': set(['Lang wang Bilu']),\r\n",
      " u'East': set([u'\\u73e0\\u6c5f\\u4e1c\\u8def Zhujiang Road East']),\r\n",
      " 'Guangdong,': set(['Room 322, Jintao Building,26# Guangyuanzhong Road, Baiyun District,Guangzhou, Guangdong,']),\r\n",
      " 'Guangzhou': set(['Dishifu Road, Guangzhou',\r\n",
      "                   'Room 1302, E2 Building, Jin Gui Yuan, #6 Jin Gui Jie, Jie Fang Bei Lu, Bai Yun District, Guangzhou']),\r\n",
      " u'Lu': set([u'\\u6ee8\\u6c5f\\u4e1c\\u8def Binjiang Dong Lu']),\r\n",
      " u'Rd': set(['Linhe West Cross Rd',\r\n",
      "             'Liurong Rd',\r\n",
      "             u'\\u5185\\u73af\\u8def Inner Ring Rd']),\r\n",
      " u'Shop': set([u'\\u6c99\\u592a\\u5357\\u8def, upstairs in Health food Shop']),\r\n",
      " 'St': set(['Yanyu S St']),\r\n",
      " u'West': set([u'\\u73e0\\u6c5f\\u897f\\u8def Zhujiang Road West']),\r\n",
      " 'Xi': set(['Huang Pu Dadao Xi']),\r\n",
      " 'ave': set(['baogang ave']),\r\n",
      " 'road': set(['Huacheng road']),\r\n",
      " 'road)': set(['Chigang Lu (road)'])}\r\n",
      "沙太南路, upstairs in Health food Shop => 沙太南路, upstairs in Health food Shop\r\n",
      "Room 322, Jintao Building,26# Guangyuanzhong Road, Baiyun District,Guangzhou, Guangdong, => Room 322, Jintao Building,26# Guangyuanzhong Road, Baiyun District,Guangzhou, Guangdong,\r\n",
      "Chigang Lu (road) => Chigang Lu (road)\r\n",
      "Huang Pu Dadao Xi => Huang Pu Dadao West\r\n",
      "珠江西路 Zhujiang Road West => 珠江西路 Zhujiang Road West\r\n",
      "Room 1302, E2 Building, Jin Gui Yuan, #6 Jin Gui Jie, Jie Fang Bei Lu, Bai Yun District, Guangzhou => Room 1302, E2 Building, Jin Gui Yuan, #6 Jin Gui Jie, Jie Fang Bei Lu, Bai Yun District, Guangzhou\r\n",
      "Dishifu Road, Guangzhou => Dishifu Road, Guangzhou\r\n",
      "Hong Road No 39 => Hong Road No 39\r\n",
      "Yanyu S St => Yanyu S Street\r\n",
      "内环路 Inner Ring Rd => 内环路 Inner Ring Road\r\n",
      "Linhe West Cross Rd => Linhe West Cross Road\r\n",
      "Liurong Rd => Liurong Road\r\n",
      "Lang wang Bilu => Lang wang Bilu\r\n",
      "滨江东路 Binjiang Dong Lu => 滨江东路 Binjiang Dong Road\r\n",
      "baogang ave => baogang Avenue\r\n",
      "珠江东路 Zhujiang Road East => 珠江东路 Zhujiang Road East\r\n",
      "China, Guangdong Sheng, Guangzhou Shi, Tianhe Qu, TianHe GongYuan, Tianhe Rd, 太古汇L307号, 邮政编码: 510610 => China, Guangdong Sheng, Guangzhou Shi, Tianhe Qu, TianHe GongYuan, Tianhe Rd, 太古汇L307号, 邮政编码: 510610\r\n",
      "Huacheng road => Huacheng Road\r\n"
     ]
    }
   ],
   "source": [
    "! python audit.py"
   ]
  },
  {
   "cell_type": "markdown",
   "metadata": {},
   "source": [
    "**总结起来，主要有以下问题**：\n",
    "\n",
    "- 地址和名称的英文名的缩写和大小写问题，如('Linhe West Cross Rd')\n",
    "- 地址和名称英文的翻译问题，如('Huang Pu Dadao Xi')\n",
    "- 地方名称问题，如('中国工商银行'，'工商银行')\n",
    "\n",
    "接下来更详细地讨论以上问题"
   ]
  },
  {
   "cell_type": "markdown",
   "metadata": {},
   "source": [
    "**地址英文名的缩写问题**\n",
    "\n",
    "地图数据中发现地址英文名存在有些缩写，有些没有缩写的情况，需要规范这些数据的统一性，统一不缩写，例如把'Linhe West Cross Rd'变成'Linhe West Cross Road'，同样大小写的问题也用相同的处理办法。"
   ]
  },
  {
   "cell_type": "markdown",
   "metadata": {},
   "source": [
    "**地址英文的翻译问题**\n",
    "\n",
    "英文翻译问题比较复杂，存在的问题如'China, Guangdong Sheng, Guangzhou Shi, Tianhe Qu, TianHe GongYuan, Tianhe Rd'，英文地址中某些部分直接是拼音，如Sheng, Shi, Qu, Jie, Lu...若考虑数据的统一性，把拼音部分转成英文需要判断该拼音是否是省、市、区、街、路等意思 ，存在一定困难。\n",
    "折中办法是只转换地址最后一个字的拼音，这样处理没那么复杂，但地址的统一性还有待完善。"
   ]
  },
  {
   "cell_type": "markdown",
   "metadata": {},
   "source": [
    "**地方名称问题**  \n",
    "\n",
    "发现有些名称存在别名或翻译成多个名称，如快餐店麦当劳存在几个名字，如MacDonald、MacDonald's，可统一名字为麦当劳；还有银行名称如中国工商银行，还有另外一种叫法如工商银行，同样的还有建设银行。这些地方名称需要统一起来。"
   ]
  },
  {
   "cell_type": "markdown",
   "metadata": {},
   "source": [
    "### 导入数据库"
   ]
  },
  {
   "cell_type": "markdown",
   "metadata": {},
   "source": [
    "运行data.py生成地图数据json文件，用mongoimport把json文件导入数据库。"
   ]
  },
  {
   "cell_type": "code",
   "execution_count": null,
   "metadata": {},
   "outputs": [],
   "source": [
    "2018-02-26T16:23:43.801+0800\tconnected to: localhost\n",
    "2018-02-26T16:23:43.801+0800\tdropping: db_news.gz\n",
    "2018-02-26T16:23:46.764+0800\t[###.....................] db_news.gz\t8.38MB/65.2MB (12.9%)\n",
    "2018-02-26T16:23:49.818+0800\t[######..................] db_news.gz\t17.1MB/65.2MB (26.2%)\n",
    "2018-02-26T16:23:52.764+0800\t[#########...............] db_news.gz\t25.8MB/65.2MB (39.5%)\n",
    "2018-02-26T16:23:55.783+0800\t[############............] db_news.gz\t33.5MB/65.2MB (51.5%)\n",
    "2018-02-26T16:23:58.764+0800\t[###############.........] db_news.gz\t41.6MB/65.2MB (63.9%)\n",
    "2018-02-26T16:24:01.830+0800\t[#################.......] db_news.gz\t48.5MB/65.2MB (74.4%)\n",
    "2018-02-26T16:24:05.584+0800\t[#####################...] db_news.gz\t58.4MB/65.2MB (89.5%)\n",
    "2018-02-26T16:24:07.386+0800\t[########################] db_news.gz\t65.2MB/65.2MB (100.0%)\n",
    "2018-02-26T16:24:07.386+0800\timported 240167 documents"
   ]
  },
  {
   "cell_type": "markdown",
   "metadata": {},
   "source": [
    "总共导入了240167个文档。"
   ]
  },
  {
   "cell_type": "markdown",
   "metadata": {},
   "source": [
    "## 数据概述"
   ]
  },
  {
   "cell_type": "markdown",
   "metadata": {},
   "source": [
    "### 文件大小"
   ]
  },
  {
   "cell_type": "markdown",
   "metadata": {},
   "source": [
    "map.osm ......... 50.3 MB  \n",
    "map.osm.json .... 68.8 MB\n",
    "\n",
    "### 各种数量统计"
   ]
  },
  {
   "cell_type": "markdown",
   "metadata": {},
   "source": [
    "*文件数量*  "
   ]
  },
  {
   "cell_type": "code",
   "execution_count": null,
   "metadata": {},
   "outputs": [],
   "source": [
    "> db.gz.find().count()  \n",
    "240167"
   ]
  },
  {
   "cell_type": "markdown",
   "metadata": {},
   "source": [
    "*节点数量*  "
   ]
  },
  {
   "cell_type": "code",
   "execution_count": null,
   "metadata": {},
   "outputs": [],
   "source": [
    "> db.gz.find({'type':'node'}).count()  \n",
    "211387"
   ]
  },
  {
   "cell_type": "markdown",
   "metadata": {},
   "source": [
    "*途径数量*"
   ]
  },
  {
   "cell_type": "code",
   "execution_count": null,
   "metadata": {},
   "outputs": [],
   "source": [
    "> db.gz.find({'type':'way'}).count()  \n",
    "28778"
   ]
  },
  {
   "cell_type": "markdown",
   "metadata": {},
   "source": [
    "*唯一用户数量*"
   ]
  },
  {
   "cell_type": "code",
   "execution_count": null,
   "metadata": {},
   "outputs": [],
   "source": [
    "> db.gz.distinct('created.user').length  \n",
    "387"
   ]
  },
  {
   "cell_type": "markdown",
   "metadata": {},
   "source": [
    "*最大贡献的用户*"
   ]
  },
  {
   "cell_type": "code",
   "execution_count": null,
   "metadata": {},
   "outputs": [],
   "source": [
    "> db.gz.aggregate([{'$match':{'created.user':{'$exists':1}}},\n",
    "...                 {'$group':{'_id':'$created.user', 'count':{'$sum':1}}},\n",
    "...                 {'$sort':{'count':-1}},\n",
    "...                 {'$limit':1}])\n",
    "{ \"_id\" : \"羊角忠实黑\", \"count\" : 60698 }"
   ]
  },
  {
   "cell_type": "markdown",
   "metadata": {},
   "source": [
    "*贡献只有1次的用户数量*"
   ]
  },
  {
   "cell_type": "code",
   "execution_count": null,
   "metadata": {},
   "outputs": [],
   "source": [
    "> db.gz.aggregate([{'$match':{'created.user':{'$exists':1}}},\n",
    "...                 {'$group':{'_id':'$created.user', 'count':{'$sum':1}}},\n",
    "...                 {'$group':{'_id':'$count', 'num_users':{'$sum':1}}},\n",
    "...                 {'$sort':{'num_users':-1}},\n",
    "...                 {'$limit':1}])\n",
    "{ \"_id\" : 1, \"num_users\" : 106 }"
   ]
  },
  {
   "cell_type": "markdown",
   "metadata": {},
   "source": [
    "*数据源数量*"
   ]
  },
  {
   "cell_type": "code",
   "execution_count": null,
   "metadata": {},
   "outputs": [],
   "source": [
    "> db.gz.distinct('source').length\n",
    "26"
   ]
  },
  {
   "cell_type": "markdown",
   "metadata": {},
   "source": [
    "*数据源前5*"
   ]
  },
  {
   "cell_type": "code",
   "execution_count": null,
   "metadata": {},
   "outputs": [],
   "source": [
    "> db.gz.aggregate([{'$match':{'source':{'$exists':1}}},\n",
    "...                 {'$group':{'_id':'$source', 'count':{'$sum':1}}},\n",
    "...                 {'$sort':{'count':-1}},\n",
    "...                 {'$limit':5}])\n",
    "{ \"_id\" : \"Yahoo hires\", \"count\" : 459 }\n",
    "{ \"_id\" : \"GPS\", \"count\" : 154 }\n",
    "{ \"_id\" : \"bing\", \"count\" : 124 }\n",
    "{ \"_id\" : \"Bing\", \"count\" : 86 }\n",
    "{ \"_id\" : \"Yahoo\", \"count\" : 73 }"
   ]
  },
  {
   "cell_type": "markdown",
   "metadata": {},
   "source": [
    "## 关于数据集的其他想法\n",
    "\n",
    "提交文件包含一个或多个用于改进或分析数据的额外建议\n",
    "\n",
    "提交文件中详尽地讨论了实施改进的益处及一些预期的问题"
   ]
  },
  {
   "cell_type": "markdown",
   "metadata": {},
   "source": [
    "### 改进或分析数据的建议\n",
    "\n",
    "地图数据中最大的问题是地址名称的问题，因为所选的地区中地名或地址的标签name存在中文、拼音和英文几种格式，考虑数据统一性，需要统一一种格式。  \n",
    "最理想的情况是统一为中文，因为若统一为英文，需要考虑翻译的准确性，若统一为拼音，存在表达意思不清晰的问题。统一成中文可以清晰表达地名或地址，但预期的问题是需要花费很多工作去处理转换，可能也会转换得不准确。"
   ]
  },
  {
   "cell_type": "markdown",
   "metadata": {},
   "source": [
    "### 所选节点类型的数量统计"
   ]
  },
  {
   "cell_type": "markdown",
   "metadata": {},
   "source": [
    "*数量前10位的设施类型*"
   ]
  },
  {
   "cell_type": "code",
   "execution_count": null,
   "metadata": {},
   "outputs": [],
   "source": [
    "> db.gz.aggregate([{'$match':{'amenity':{'$exists':1}}},\n",
    "...                 {'$group':{'_id':'$amenity', 'count':{'$sum':1}}},\n",
    "...                 {'$sort':{'count':-1}},\n",
    "...                 {'$limit':10}])\n",
    "{ \"_id\" : \"restaurant\", \"count\" : 248 }\n",
    "{ \"_id\" : \"school\", \"count\" : 206 }\n",
    "{ \"_id\" : \"bank\", \"count\" : 152 }\n",
    "{ \"_id\" : \"parking\", \"count\" : 128 }\n",
    "{ \"_id\" : \"toilets\", \"count\" : 90 }\n",
    "{ \"_id\" : \"hospital\", \"count\" : 85 }\n",
    "{ \"_id\" : \"fast_food\", \"count\" : 74 }\n",
    "{ \"_id\" : \"bus_station\", \"count\" : 62 }\n",
    "{ \"_id\" : \"cafe\", \"count\" : 53 }\n",
    "{ \"_id\" : \"place_of_worship\", \"count\" : 42 }"
   ]
  },
  {
   "cell_type": "markdown",
   "metadata": {},
   "source": [
    "*数量前10位的餐厅或快餐厅*"
   ]
  },
  {
   "cell_type": "code",
   "execution_count": null,
   "metadata": {},
   "outputs": [],
   "source": [
    "> db.gz.aggregate([{'$match':{'amenity':{'$in':['restaurant','fast_food']}}},\n",
    "...                 {'$group':{'_id':'$name', 'count':{'$sum':1}}},\n",
    "...                 {'$match':{'_id':{'$ne':null}}},\n",
    "...                 {'$sort':{'count':-1}},\n",
    "...                 {'$limit':10}])\n",
    "{ \"_id\" : \"麦当劳\", \"count\" : 33 }\n",
    "{ \"_id\" : \"肯德基\", \"count\" : 17 }\n",
    "{ \"_id\" : \"必胜客\", \"count\" : 8 }\n",
    "{ \"_id\" : \"赛百味\", \"count\" : 5 }\n",
    "{ \"_id\" : \"72街\", \"count\" : 5 }\n",
    "{ \"_id\" : \"真功夫\", \"count\" : 5 }\n",
    "{ \"_id\" : \"都城快餐\", \"count\" : 5 }\n",
    "{ \"_id\" : \"Burger King\", \"count\" : 3 }\n",
    "{ \"_id\" : \"萨莉亚\", \"count\" : 2 }\n",
    "{ \"_id\" : \"同湘会\", \"count\" : 2 }"
   ]
  },
  {
   "cell_type": "markdown",
   "metadata": {},
   "source": [
    "*最受欢迎的菜系*"
   ]
  },
  {
   "cell_type": "code",
   "execution_count": null,
   "metadata": {},
   "outputs": [],
   "source": [
    "> db.gz.aggregate([{'$match':{'amenity':{'$in':['restaurant','fast_food']}}},\n",
    "...                 {'$group':{'_id':'$cuisine', 'count':{'$sum':1}}},\n",
    "...                 {'$match':{'_id':{'$ne':null}}},\n",
    "...                 {'$sort':{'count':-1}},\n",
    "...                 {'$limit':3}])\n",
    "{ \"_id\" : \"chinese\", \"count\" : 54 }\n",
    "{ \"_id\" : \"burger\", \"count\" : 25 }\n",
    "{ \"_id\" : \"chicken\", \"count\" : 13 }"
   ]
  },
  {
   "cell_type": "markdown",
   "metadata": {},
   "source": [
    "*数量前10位的银行*"
   ]
  },
  {
   "cell_type": "code",
   "execution_count": null,
   "metadata": {},
   "outputs": [],
   "source": [
    "> db.gz.aggregate([{'$match':{'amenity':'bank'}},\n",
    "...                 {'$group':{'_id':'$name', 'count':{'$sum':1}}},\n",
    "...                 {'$match':{'_id':{'$ne':null}}},\n",
    "...                 {'$sort':{'count':-1}},\n",
    "...                 {'$limit':10}])\n",
    "{ \"_id\" : \"建设银行\", \"count\" : 22 }\n",
    "{ \"_id\" : \"中国银行\", \"count\" : 21 }\n",
    "{ \"_id\" : \"农业银行\", \"count\" : 20 }\n",
    "{ \"_id\" : \"工商银行\", \"count\" : 19 }\n",
    "{ \"_id\" : \"招商银行\", \"count\" : 10 }\n",
    "{ \"_id\" : \"广州银行\", \"count\" : 6 }\n",
    "{ \"_id\" : \"交通银行\", \"count\" : 6 }\n",
    "{ \"_id\" : \"广发银行\", \"count\" : 6 }\n",
    "{ \"_id\" : \"民生银行\", \"count\" : 5 }\n",
    "{ \"_id\" : \"兴业银行\", \"count\" : 3 }"
   ]
  },
  {
   "cell_type": "markdown",
   "metadata": {},
   "source": [
    "## 总结\n",
    "此数据还有待整理和清理，需要处理的问题还有很多，例如地名或地址部分。但总的来说以上几个步骤练习了整理数据的过程。\n",
    "- 用有效性、准确率、完整性、一致性和均匀性来评估数据的质量。\n",
    "- 解析并且从.xml文件格式和收集数据。\n",
    "- 处理来自大量文件和大型文件并且编程进行清理的数据。\n",
    "- 使用 MongoDB存储、查询和聚合数据。"
   ]
  },
  {
   "cell_type": "markdown",
   "metadata": {},
   "source": [
    "## 参考\n",
    "- https://github.com/j450h1/P3-Data-Wrangling-with-MongoDB\n",
    "- http://nbviewer.jupyter.org/github/jm974/openstreetmap/blob/master/OpenStreetMap.ipynb\n",
    "- http://nbviewer.jupyter.org/github/tychen927/openstreetmap_mongoDB/blob/master/main.ipynb"
   ]
  }
 ],
 "metadata": {
  "kernelspec": {
   "display_name": "Python 2",
   "language": "python",
   "name": "python2"
  },
  "language_info": {
   "codemirror_mode": {
    "name": "ipython",
    "version": 2
   },
   "file_extension": ".py",
   "mimetype": "text/x-python",
   "name": "python",
   "nbconvert_exporter": "python",
   "pygments_lexer": "ipython2",
   "version": "2.7.13"
  },
  "toc": {
   "nav_menu": {},
   "number_sections": true,
   "sideBar": true,
   "skip_h1_title": false,
   "title_cell": "Table of Contents",
   "title_sidebar": "Contents",
   "toc_cell": true,
   "toc_position": {
    "height": "calc(100% - 180px)",
    "left": "10px",
    "top": "150px",
    "width": "217px"
   },
   "toc_section_display": true,
   "toc_window_display": false
  },
  "varInspector": {
   "cols": {
    "lenName": 16,
    "lenType": 16,
    "lenVar": 40
   },
   "kernels_config": {
    "python": {
     "delete_cmd_postfix": "",
     "delete_cmd_prefix": "del ",
     "library": "var_list.py",
     "varRefreshCmd": "print(var_dic_list())"
    },
    "r": {
     "delete_cmd_postfix": ") ",
     "delete_cmd_prefix": "rm(",
     "library": "var_list.r",
     "varRefreshCmd": "cat(var_dic_list()) "
    }
   },
   "types_to_exclude": [
    "module",
    "function",
    "builtin_function_or_method",
    "instance",
    "_Feature"
   ],
   "window_display": false
  }
 },
 "nbformat": 4,
 "nbformat_minor": 2
}
