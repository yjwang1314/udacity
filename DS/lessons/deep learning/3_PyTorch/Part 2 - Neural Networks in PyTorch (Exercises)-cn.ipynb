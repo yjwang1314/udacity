{
 "cells": [
  {
   "cell_type": "markdown",
   "metadata": {},
   "source": [
    "﻿# 通过 PyTorch 构建神经网络\n",
    "\n",
    "深度学习网络一般量级都很大，包含数百个层级，这也是为什么叫“深度”学习网络。你可以像在上个 notebook 展示的一样，仅使用权重矩阵构建深度网络，但是这通常很繁琐并且不好实施。PyTorch 有一个很方便的模块 `nn`，可以有效地构建大型神经网络。"
   ]
  },
  {
   "cell_type": "code",
   "execution_count": 1,
   "metadata": {},
   "outputs": [],
   "source": [
    "# Import necessary packages\n",
    "\n",
    "%matplotlib inline\n",
    "%config InlineBackend.figure_format = 'retina'\n",
    "\n",
    "import numpy as np\n",
    "import torch\n",
    "\n",
    "import helper\n",
    "\n",
    "import matplotlib.pyplot as plt"
   ]
  },
  {
   "cell_type": "markdown",
   "metadata": {},
   "source": [
    "现在我们要构建一个大型网络，并用它解决识别图像中的文字的这一难题。我们将使用 MNIST 数据集，这个数据集由灰色的手写数字组成。每个图像都是 28x28，如以下示例所示：\n",
    "\n",
    "<img src='assets/mnist.png'>\n",
    "\n",
    "我们的目标是构建一个神经网络，可以预测图像中的数字。\n",
    "\n",
    "首先，我们需要获取数据集。这些数据位于 `torchvision` 软件包中。以下代码将下载 MNIST 数据集，然后为我们创建训练数据集和测试数据集。"
   ]
  },
  {
   "cell_type": "code",
   "execution_count": 2,
   "metadata": {},
   "outputs": [
    {
     "name": "stdout",
     "output_type": "stream",
     "text": [
      "Downloading http://yann.lecun.com/exdb/mnist/train-images-idx3-ubyte.gz\n",
      "Downloading http://yann.lecun.com/exdb/mnist/train-labels-idx1-ubyte.gz\n",
      "Downloading http://yann.lecun.com/exdb/mnist/t10k-images-idx3-ubyte.gz\n",
      "Downloading http://yann.lecun.com/exdb/mnist/t10k-labels-idx1-ubyte.gz\n",
      "Processing...\n",
      "Done!\n"
     ]
    }
   ],
   "source": [
    "### Run this cell\n",
    "\n",
    "from torchvision import datasets, transforms\n",
    "\n",
    "# Define a transform to normalize the data\n",
    "transform = transforms.Compose([transforms.ToTensor(),\n",
    "                              transforms.Normalize((0.5,), (0.5,)),\n",
    "                              ])\n",
    "\n",
    "# Download and load the training data\n",
    "trainset = datasets.MNIST('~/.pytorch/MNIST_data/', download=True, train=True, transform=transform)\n",
    "trainloader = torch.utils.data.DataLoader(trainset, batch_size=64, shuffle=True)"
   ]
  },
  {
   "cell_type": "markdown",
   "metadata": {},
   "source": [
    "我们将训练数据加载到 `trainloader` 中，并使用 `iter(trainloader)` 使其变成迭代器。之后，我们将用它循环访问数据集以进行训练，例如"
   ]
  },
  {
   "cell_type": "code",
   "execution_count": null,
   "metadata": {},
   "outputs": [],
   "source": [
    "for image, label in trainloader:\n",
    "    ## do things with images and labels"
   ]
  },
  {
   "cell_type": "markdown",
   "metadata": {},
   "source": [
    "我在创建 `trainloader` 时，将批次大小设为 64，并设置为 `shuffle=True`。批次大小是指我们在一次迭代中从数据加载器获取并经过网络的图像数量。`shuffle=True` 表示每次重新访问数据加载器时，随机重排数据集。但是现在我仅获取第一批数据，以便查看数据。从下方可以看出，`images` 是一个张量，大小为 `(64, 1, 28, 28)`。因此，每批有 64 个图像，图像有 1 个颜色通道，共有 28x28 个图像。"
   ]
  },
  {
   "cell_type": "code",
   "execution_count": 3,
   "metadata": {},
   "outputs": [
    {
     "name": "stdout",
     "output_type": "stream",
     "text": [
      "<class 'torch.Tensor'>\n",
      "torch.Size([64, 1, 28, 28])\n",
      "torch.Size([64])\n"
     ]
    }
   ],
   "source": [
    "dataiter = iter(trainloader)\n",
    "images, labels = dataiter.next()\n",
    "print(type(images))\n",
    "print(images.shape)\n",
    "print(labels.shape)"
   ]
  },
  {
   "cell_type": "markdown",
   "metadata": {},
   "source": [
    "下面是一个图像示例。"
   ]
  },
  {
   "cell_type": "code",
   "execution_count": 4,
   "metadata": {},
   "outputs": [
    {
     "name": "stdout",
     "output_type": "stream",
     "text": [
      "tensor(9)\n"
     ]
    },
    {
     "data": {
      "image/png": "[encoded data removed]",
      "text/plain": [
       "<matplotlib.figure.Figure at 0x7fa1b4172828>"
      ]
     },
     "metadata": {
      "image/png": {
       "height": 250,
       "width": 253
      },
      "needs_background": "light"
     },
     "output_type": "display_data"
    }
   ],
   "source": [
    "plt.imshow(images[1].numpy().squeeze(), cmap='Greys_r');\n",
    "print(labels[1])"
   ]
  },
  {
   "cell_type": "markdown",
   "metadata": {},
   "source": [
    "首先，我们要使用权重矩阵和矩阵乘法，用此数据集构建一个简单的网络。然后，我们将学习如何使用 PyTorch 的 `nn` 模块构建该网络。\n",
    "\n",
    "神经网络又称为*全连接*或*密集*网络。一个层级中的每个单元都与下个层级中的每个单元相连。在全连接网络中，每个层级的输入必须是一维向量（可以作为一批样本堆叠为二维张量）。但是，我们的图像是 28x28 二维张量，因此我们需要将其转换为一维向量。考虑到大小问题，我们需要将形状为 `(64, 1, 28, 28)` 的批次图像变形为 `(64, 784)`，784 等于 28 x 28。这一步通常称为*扁平化*，我们将二维图像扁平化为一维向量。\n",
    "\n",
    "之前，我们试过了构建具有一个输出单元的简单网络。现在，我们需要 10 个输出单元，每个数字对应一个单元。如果要预测出图像中显示的数字，我们必须计算该图像属于任何数字或类别的概率。我们会得到一个离散概率分布，告诉我们图像最有可能属于哪个类别。这就是说，我们需要 10 个输出单元，对应 10 个类别（数字）。下面讲解如何将网络输出转换为概率分布。\n",
    "\n",
    "> **练习：**将 `images`扁平化。然后构建一个多层网络，有 784 个输入单元、256 个隐藏单元和 10 个输出单元，并对权重和偏差使用随机张量。目前，我们对隐藏层使用 S 型激活函数。输出层暂时不需要激活函数，下一步我们将添加计算概率分布的激活函数。"
   ]
  },
  {
   "cell_type": "code",
   "execution_count": 5,
   "metadata": {
    "scrolled": true
   },
   "outputs": [
    {
     "name": "stdout",
     "output_type": "stream",
     "text": [
      "torch.Size([64, 10])\n",
      "tensor([[-16.6959,   0.3062,  28.9275,   9.2912,   0.8727,  -0.9437,\n",
      "          12.8192,  21.6006,  -8.2552,   7.5708],\n",
      "        [-15.5919,   2.9648,  28.6810,  -2.6440,  -6.6497,  -4.5758,\n",
      "           7.5903,  27.0734,  -1.0866,   5.5046],\n",
      "        [-17.0101,   8.6852,  28.4258,   1.4407,  -0.1912,   1.5238,\n",
      "           4.5064,  22.4250, -11.4705,  11.8047],\n",
      "        [-18.2125,  -4.7256,  20.9177,   6.0798, -14.9197,  11.0334,\n",
      "           0.4996,  33.6988,   1.9695,   1.4868],\n",
      "        [-15.8332,   6.4684,  40.2737,   8.1176,  -0.0145,  -4.5936,\n",
      "          10.1597,  27.7740,  -0.6445,   2.2920],\n",
      "        [-10.6764,   5.6354,  28.2969,   4.6849,  -6.9888,  -5.9767,\n",
      "          10.9102,  25.4592,   5.4803,   8.5596],\n",
      "        [-18.0623,  -3.6946,  29.4490,   5.4705,  -5.6911,   0.6422,\n",
      "           9.4871,  30.8458,  -7.8915,  -0.0806],\n",
      "        [-13.4463,   3.7124,  31.2763,   8.5361,   3.1253,   3.4242,\n",
      "           5.2942,  28.8871, -10.8552,   3.1230],\n",
      "        [-19.0059,  -1.8122,  23.8024,  12.4063,  -8.5945,   5.1668,\n",
      "           8.3598,  26.8710,  -5.1809,   8.3067],\n",
      "        [-18.7461,  -0.2663,  32.4609,   7.6489, -12.3659,   2.1503,\n",
      "           7.6689,  34.3742,  -5.2774,   5.9521],\n",
      "        [-13.8823,   4.7044,  36.9562,   2.3241,   0.7216,  -9.5063,\n",
      "          12.5831,  30.9836,   3.9778,   3.4786],\n",
      "        [-18.3308,  -4.0636,  25.8376,   3.1636,   1.6281,   6.1798,\n",
      "          13.2742,  26.6751,   5.7804,  -2.7974],\n",
      "        [-18.7928,  -2.8579,  23.8625,   6.8291,  -2.7484,   5.5071,\n",
      "           5.2358,  29.2671,  -4.6697,   1.4656],\n",
      "        [-16.3228,   9.2561,  30.9976,   9.5195,  -2.8526,   5.4157,\n",
      "           4.7431,  27.1256,  -1.1512,  10.1033],\n",
      "        [-18.8617,  10.8086,  26.0895,   1.3328, -10.2285,  -1.0354,\n",
      "           2.4047,  39.5141, -10.1270,   8.4274],\n",
      "        [ -7.1066,  18.2246,  29.1223,  -7.2909, -13.3739,  -0.0663,\n",
      "          10.2800,  34.7755,   7.2342,  -0.2606],\n",
      "        [-11.0640,  20.1945,  35.2218,  -1.6453, -11.9426,  -2.5361,\n",
      "           6.2901,  23.0974,   6.6081,   1.0808],\n",
      "        [ -9.5959,   0.5305,  21.9516,   2.0387,   2.1323,   8.4977,\n",
      "          10.4050,  28.5733,  -0.4762,  10.2720],\n",
      "        [-13.7200,   0.9514,  22.8717,   4.7080,   1.6450,   7.4150,\n",
      "           8.7656,  21.7242,  -4.8576,  11.8856],\n",
      "        [-18.6680,   2.9257,  39.4424,   0.6603,  -7.5596,  -0.5706,\n",
      "           2.1411,  29.9995,   2.5691,   9.4388],\n",
      "        [-18.5771,   1.0723,  26.9207,  11.4459,  -6.9396,   3.6739,\n",
      "           6.4059,  25.5783, -11.8429,  18.1912],\n",
      "        [ -9.5115,   7.6906,  24.1453,   3.9471,  -1.4580,   5.1143,\n",
      "           1.2611,  28.8887,  -6.1333,   3.2586],\n",
      "        [-20.4431,   5.1074,  29.1475,   3.5225,  -6.2196,  14.4775,\n",
      "           6.9589,  36.3679,  -5.7275,   0.6805],\n",
      "        [-15.1141,   6.2929,  28.3385,  -1.4377,   4.5397,  -2.4431,\n",
      "           6.9202,  28.4057,  -2.5521,   9.5920],\n",
      "        [-14.3289,  12.9347,  25.2171,   8.5360,  -6.0515,   5.2098,\n",
      "           5.4261,  23.6236,  -6.0648,  11.8021],\n",
      "        [-14.7184,   1.6833,  19.9079,   1.0591,  -5.9854,  -1.3137,\n",
      "           4.0811,  32.9333,   0.7539,   1.0380],\n",
      "        [-21.6383,   3.5431,  26.6226,   2.5228,   1.2113,   2.4197,\n",
      "          12.6200,  26.9183,   5.0760,  10.5532],\n",
      "        [-10.3071,  14.7723,  34.3700,  -5.0486,   0.1133,   3.3194,\n",
      "          15.4693,  33.8482,   4.8377,   4.7990],\n",
      "        [ -8.9024,   8.0968,  31.7602,  -1.8506,  -9.4084, -10.2471,\n",
      "          12.0946,  30.5185,   6.8814,  -1.2775],\n",
      "        [-18.0195,   1.5729,  31.3683,   6.5101,  -7.7912,   7.3790,\n",
      "           6.7602,  26.6786,  -4.7066,  11.9874],\n",
      "        [-15.2763,   8.9005,  29.4553,  -4.8450,  -6.8315,  -5.0840,\n",
      "           6.2134,  30.5531,   5.1617,   1.3276],\n",
      "        [ -7.1842,   8.1927,  26.7455,  -2.4284,  -6.2372,  -0.7799,\n",
      "           8.3344,  22.8041,   8.2201,   3.7585],\n",
      "        [-17.1507,   4.1047,  22.8032,  -0.8801,  -2.4692,   5.7682,\n",
      "          16.0089,  28.2335,  -0.3108,   8.7921],\n",
      "        [-19.5136,  10.7260,  30.6511,  -5.2786,  -4.7933, -10.2080,\n",
      "           3.2043,  33.3077,   3.6994,   0.4073],\n",
      "        [-16.1928,   0.3657,  23.9956,   3.6456,   0.9949,   6.0620,\n",
      "           6.3479,  26.4542,  -1.9192,  -0.6341],\n",
      "        [-15.4775,   5.7601,  33.2202,   9.9199,   1.1200,  -3.3190,\n",
      "           9.4427,  27.3622,  -0.7939,  -2.9717],\n",
      "        [-19.3906,  10.7554,  34.4123,   4.9818,   0.7127,  -0.1126,\n",
      "           8.4195,  30.4407,  -1.2928,  11.2226],\n",
      "        [-11.5673,  -2.9610,  28.4215,   4.0932, -10.1200,   4.0219,\n",
      "          16.1809,  21.4490,   8.0920,   1.8254],\n",
      "        [-13.4461,  -7.1897,  23.3369,   8.6497,  -4.7149,  34.8157,\n",
      "           3.8464,  23.7303,  -9.7156,  -2.4499],\n",
      "        [-12.5727,  -3.6257,  20.6665,   9.6637,  -4.8067,  -1.2389,\n",
      "           5.2833,  23.8838,  -8.6713,   8.6370],\n",
      "        [-12.6408,   0.6585,  22.4079,   5.8109,  -7.0901,  24.9995,\n",
      "          10.4994,  35.7080,  -9.1435,  -9.0584],\n",
      "        [ -4.9630,   3.2309,  34.9808,   0.0417,  -9.2885,  -1.7762,\n",
      "           7.2552,  30.7881,   1.8791,  11.2051],\n",
      "        [ -6.0214,  -7.3227,  20.1351,   8.4938,  -1.9967,  17.4751,\n",
      "          12.1564,  26.1620, -11.8116,  -7.5138],\n",
      "        [-14.4132,  -0.3608,  29.7221,   7.3977,  -5.5416,   3.4680,\n",
      "          15.3452,  19.8171,   1.3081,   6.8463],\n",
      "        [-14.1236,   4.6476,  21.5968,  -6.9947,  -5.8196,   0.8856,\n",
      "          15.4425,  24.5133,  10.4291,   3.8096],\n",
      "        [-17.9425,   3.7845,  21.3941,  11.0297,  -2.1509,   6.2763,\n",
      "           9.2324,  25.5203,  -6.9337,   4.2379],\n",
      "        [-17.1634,   7.9068,  26.5188,   2.8631,  -4.9318,   4.9143,\n",
      "          -0.5133,  29.7752,  -4.3837,  -1.0601],\n",
      "        [-15.0312,  10.3773,  29.4963,  -4.8538,  -7.7543,   0.7573,\n",
      "           8.6407,  22.2699,   3.2570,  -1.5683],\n",
      "        [ -9.3520,  11.5832,  27.6535,   0.2768,  -6.8049,  -3.8360,\n",
      "           2.7106,  24.8024,   2.5544,  12.5518],\n",
      "        [-15.2706,  -2.0060,  31.5271,   4.3718,  -5.0681,   1.0582,\n",
      "           7.4474,  34.8973,  -3.5149,   3.8779],\n",
      "        [ -9.7057,  -3.0938,  18.1409,  -2.4482,  -5.9616,   7.9714,\n",
      "           1.4434,  38.0835,  -5.5916,   1.7985],\n",
      "        [-20.3521,   5.3622,  25.8245,   1.5596,  -6.9755,   6.5698,\n",
      "           6.8860,  29.2309,  -4.5795,  -0.4403],\n",
      "        [-21.4337,  -5.1573,  31.4103,   8.4789,  -5.4213,   3.1129,\n",
      "          13.2764,  27.8783,  -1.7359,   3.9018],\n",
      "        [-14.2701,  -0.6434,  27.0518,   0.2381,  -7.6445,  -0.5763,\n",
      "          11.3736,  29.2706,   4.2884,  12.6630],\n",
      "        [-19.8787,  10.7964,  23.9656,  11.4086,   0.7575,   9.2110,\n",
      "          10.6041,  39.6644, -10.0976,  17.3170],\n",
      "        [-18.4828,  -3.3331,  30.2719,   5.3764, -12.0538,   9.7171,\n",
      "           2.2665,  30.9083,   2.8069,  -2.7253],\n",
      "        [-11.3697,   8.5726,  26.3678,   1.9756,   0.4558,  10.3426,\n",
      "          13.5113,  31.7533,   5.0853,  -0.2928],\n",
      "        [-17.3316,  19.8504,  25.5054,  -3.0814,  -2.6440,   5.3085,\n",
      "          -8.1077,  36.7990,  -2.6142,  -0.8156],\n",
      "        [-19.5320,  -4.6415,  16.7897,   5.4335, -12.7218,  11.1633,\n",
      "          -4.0915,  37.4901,   1.9231,  -7.7584],\n",
      "        [-19.1867,   8.0888,  29.7054,   2.1615, -22.6012,   7.6374,\n",
      "          18.3139,  30.9862,   8.0419,   5.8735],\n",
      "        [-11.9757,  -0.1220,  25.9605,   0.1633, -19.8314,  -0.2804,\n",
      "          10.1065,  17.5382,   8.4392,   3.6598],\n",
      "        [-19.7446,  11.2452,  31.0885,   4.1218,  -9.1042,  -5.5831,\n",
      "          11.5906,  35.5057,   0.7221,  -3.5608],\n",
      "        [-16.2793,  -0.3508,  23.0341,  -2.4098,  -8.4821,   1.6410,\n",
      "           6.9665,  28.3592,  -1.8918,   3.1838],\n",
      "        [-21.3856,   9.5789,  26.3299,   3.7456,  -0.5804,  10.6192,\n",
      "           3.7743,  37.1468,   3.6258,  -1.3627]])\n"
     ]
    }
   ],
   "source": [
    "## Your solution\n",
    "def activation(x):\n",
    "    return 1/(1+torch.exp(-x))\n",
    "\n",
    "# Flatten the input images\n",
    "inputs = images.view(images.shape[0], -1) #(64, 784)\n",
    "\n",
    "# Create parameters\n",
    "w1 = torch.randn(784, 256)\n",
    "b1 = torch.randn(256)\n",
    "\n",
    "w2 = torch.randn(256, 10)\n",
    "b2 = torch.randn(10)\n",
    "\n",
    "h = activation(torch.mm(inputs, w1) + b1)\n",
    "\n",
    "out = torch.mm(h, w2) + b2\n",
    "print(out.shape)\n",
    "print(out)\n",
    "\n",
    "# out = # output of your network, should have shape (64,10)"
   ]
  },
  {
   "cell_type": "markdown",
   "metadata": {},
   "source": [
    "现在网络有 10 个输出了。我们向网络中传入一个图像，并获得类别概率分布，告诉我们图像最有可能属于哪个数字/类别。结果如下所示：\n",
    "<img src='assets/image_distribution.png' width=500px>\n",
    "\n",
    "可以看出每个类别的概率大致相等。这是未训练网络的结果，网络尚未见过任何数据，因此返回均匀分布，每个类别的概率相等。\n",
    "\n",
    "可以用 [**softmax** 函数]计算概率分布(https://en.wikipedia.org/wiki/Softmax_function)。数学公式为：\n",
    "\n",
    "$$\n",
    "\\Large \\sigma(x_i) = \\cfrac{e^{x_i}}{\\sum_k^K{e^{x_k}}}\n",
    "$$\n",
    "\n",
    "它会将每个输入 $x_i$ 都缩放到 0 和 1 之间并标准化值，得出标准概率分布，其中概率总和是 1。\n",
    "\n",
    "> **练习：**实现一个进行 softmax 运算的函数 `softmax` ，并针对批次中的每个样本返回概率分布。注意，在运算时需要注意形状。如果有一个张量 `a` 的形状为 `(64, 10)`，另一个张量 `b` 的形状为 `(64,)`，进行 `a/b` 运算将出错，因为 PyTorch 会对列进行除法运算（称为广播），但是大小不匹配。提示：对于 64 个样本中的每个样本，你可以除以一个值，即分母中的和。因此需要使 `b` 变形为 `(64, 1)`。这样的话，PyTorch 将使 `a` 中每行的10 个值除以 `b` 中每行的一个值。另外，要注意求和的方式。你要在 `torch.sum` 中定义 `dim` 。 `dim=0` 会对行求和，而 `dim=1` 会对列求和。"
   ]
  },
  {
   "cell_type": "code",
   "execution_count": 6,
   "metadata": {},
   "outputs": [
    {
     "name": "stdout",
     "output_type": "stream",
     "text": [
      "torch.Size([64, 10])\n",
      "tensor([ 1.0000,  1.0000,  1.0000,  1.0000,  1.0000,  1.0000,  1.0000,\n",
      "         1.0000,  1.0000,  1.0000,  1.0000,  1.0000,  1.0000,  1.0000,\n",
      "         1.0000,  1.0000,  1.0000,  1.0000,  1.0000,  1.0000,  1.0000,\n",
      "         1.0000,  1.0000,  1.0000,  1.0000,  1.0000,  1.0000,  1.0000,\n",
      "         1.0000,  1.0000,  1.0000,  1.0000,  1.0000,  1.0000,  1.0000,\n",
      "         1.0000,  1.0000,  1.0000,  1.0000,  1.0000,  1.0000,  1.0000,\n",
      "         1.0000,  1.0000,  1.0000,  1.0000,  1.0000,  1.0000,  1.0000,\n",
      "         1.0000,  1.0000,  1.0000,  1.0000,  1.0000,  1.0000,  1.0000,\n",
      "         1.0000,  1.0000,  1.0000,  1.0000,  1.0000,  1.0000,  1.0000,\n",
      "         1.0000])\n"
     ]
    }
   ],
   "source": [
    "def softmax(x):\n",
    "    ## TODO: Implement the softmax function here\n",
    "    return torch.exp(x)/torch.sum(torch.exp(x), dim=1).view(-1,1)\n",
    "\n",
    "# Here, out should be the output of the network in the previous excercise with shape (64,10)\n",
    "probabilities = softmax(out)\n",
    "\n",
    "# Does it have the right shape? Should be (64, 10)\n",
    "print(probabilities.shape)\n",
    "# Does it sum to 1?\n",
    "print(probabilities.sum(dim=1))"
   ]
  },
  {
   "cell_type": "markdown",
   "metadata": {},
   "source": [
    "## 通过 PyTorch 构建网络\n",
    "\n",
    "PyTorch 提供了`nn`模块，大大地简化了网络构建过程。我将演示如何构建上述同一个网络，即包含 784 个输入、256 个隐藏单元、10 个输出单元和一个 softmax 输出。"
   ]
  },
  {
   "cell_type": "code",
   "execution_count": 7,
   "metadata": {},
   "outputs": [],
   "source": [
    "from torch import nn"
   ]
  },
  {
   "cell_type": "code",
   "execution_count": 8,
   "metadata": {},
   "outputs": [],
   "source": [
    "class Network(nn.Module):\n",
    "    def __init__(self):\n",
    "        super().__init__()\n",
    "        \n",
    "        # Inputs to hidden layer linear transformation\n",
    "        self.hidden = nn.Linear(784, 256)\n",
    "        # Output layer, 10 units - one for each digit\n",
    "        self.output = nn.Linear(256, 10)\n",
    "        \n",
    "        # Define sigmoid activation and softmax output \n",
    "        self.sigmoid = nn.Sigmoid()\n",
    "        self.softmax = nn.Softmax(dim=1)\n",
    "        \n",
    "    def forward(self, x):\n",
    "        # Pass the input tensor through each of our operations\n",
    "        x = self.hidden(x)\n",
    "        x = self.sigmoid(x)\n",
    "        x = self.output(x)\n",
    "        x = self.softmax(x)\n",
    "        \n",
    "        return x"
   ]
  },
  {
   "cell_type": "markdown",
   "metadata": {},
   "source": [
    "分步讲解。"
   ]
  },
  {
   "cell_type": "code",
   "execution_count": 9,
   "metadata": {
    "collapsed": true
   },
   "outputs": [
    {
     "ename": "SyntaxError",
     "evalue": "unexpected EOF while parsing (<ipython-input-9-9b3a219bc8af>, line 1)",
     "output_type": "error",
     "traceback": [
      "\u001b[0;36m  File \u001b[0;32m\"<ipython-input-9-9b3a219bc8af>\"\u001b[0;36m, line \u001b[0;32m1\u001b[0m\n\u001b[0;31m    class Network(nn.Module):\u001b[0m\n\u001b[0m                             ^\u001b[0m\n\u001b[0;31mSyntaxError\u001b[0m\u001b[0;31m:\u001b[0m unexpected EOF while parsing\n"
     ]
    }
   ],
   "source": [
    "class Network(nn.Module):"
   ]
  },
  {
   "cell_type": "markdown",
   "metadata": {},
   "source": [
    "先继承 `nn.Module`。与 `super().__init__()` 相结合，创建一个跟踪架构的类，并提供大量有用的方法和属性。注意，在为网络创建类时，必须继承 `nn.Module`。类可以随意命名。"
   ]
  },
  {
   "cell_type": "code",
   "execution_count": 10,
   "metadata": {
    "collapsed": true
   },
   "outputs": [
    {
     "ename": "NameError",
     "evalue": "name 'self' is not defined",
     "output_type": "error",
     "traceback": [
      "\u001b[0;31m---------------------------------------------------------------------------\u001b[0m",
      "\u001b[0;31mNameError\u001b[0m                                 Traceback (most recent call last)",
      "\u001b[0;32m<ipython-input-10-ec6cd9ee23c4>\u001b[0m in \u001b[0;36m<module>\u001b[0;34m()\u001b[0m\n\u001b[0;32m----> 1\u001b[0;31m \u001b[0mself\u001b[0m\u001b[0;34m.\u001b[0m\u001b[0mhidden\u001b[0m \u001b[0;34m=\u001b[0m \u001b[0mnn\u001b[0m\u001b[0;34m.\u001b[0m\u001b[0mLinear\u001b[0m\u001b[0;34m(\u001b[0m\u001b[0;36m784\u001b[0m\u001b[0;34m,\u001b[0m \u001b[0;36m256\u001b[0m\u001b[0;34m)\u001b[0m\u001b[0;34m\u001b[0m\u001b[0m\n\u001b[0m",
      "\u001b[0;31mNameError\u001b[0m: name 'self' is not defined"
     ]
    }
   ],
   "source": [
    "self.hidden = nn.Linear(784, 256)"
   ]
  },
  {
   "cell_type": "markdown",
   "metadata": {},
   "source": [
    "这行创建一个线性转换模块 $x\\mathbf{W} + b$，其中有 784 个输入和 256 个输出，并赋值给 `self.hidden`。该模块会自动创建权重和偏差张量，供我们在 `forward` 方法中使用。创建网络 (`net`) 后，你可以使用 `net.hidden.weight` 和 `net.hidden.bias` 访问权重和偏差张量。"
   ]
  },
  {
   "cell_type": "code",
   "execution_count": null,
   "metadata": {},
   "outputs": [],
   "source": [
    "self.output = nn.Linear(256, 10)"
   ]
  },
  {
   "cell_type": "markdown",
   "metadata": {},
   "source": [
    "同样，这里会创建另一个有 256 个输入和 10 个输出的线性转换。"
   ]
  },
  {
   "cell_type": "code",
   "execution_count": null,
   "metadata": {},
   "outputs": [],
   "source": [
    "self.sigmoid = nn.Sigmoid()\n",
    "self.softmax = nn.Softmax(dim=1)"
   ]
  },
  {
   "cell_type": "markdown",
   "metadata": {},
   "source": [
    "然后，我定义了 S 型激活函数和 softmax 输出的运算。在 `nn.Softmax(dim=1)` 中设置 `dim=1` 会计算各个列的 softmax 值。"
   ]
  },
  {
   "cell_type": "code",
   "execution_count": null,
   "metadata": {},
   "outputs": [],
   "source": [
    "def forward(self, x):"
   ]
  },
  {
   "cell_type": "markdown",
   "metadata": {},
   "source": [
    "用 `nn.Module` 创建的 PyTorch 网络必须定义 `forward` 方法。它会接受一个张量 `x` 并将其传入你在 `__init__` 方法中定义的运算。"
   ]
  },
  {
   "cell_type": "code",
   "execution_count": null,
   "metadata": {},
   "outputs": [],
   "source": [
    "x = self.hidden(x)\n",
    "x = self.sigmoid(x)\n",
    "x = self.output(x)\n",
    "x = self.softmax(x)"
   ]
  },
  {
   "cell_type": "markdown",
   "metadata": {},
   "source": [
    "我们将输入张量 `x` 传入重新赋值给 `x` 的每个运算。可以看出输入张量经过隐藏层，然后经过 S 型函数、输出层，最终经过 softmax 函数。.变量可以命名为任何名称，只要运算的输入和输出与你要构建的网络架构匹配即可。你在 `__init__` 方法中的定义顺序不重要，但是需要在 `forward` 方法中正确地设定运算顺序。\n",
    "\n",
    "现在我们可以创建一个 `Network` 对象。"
   ]
  },
  {
   "cell_type": "code",
   "execution_count": 11,
   "metadata": {},
   "outputs": [
    {
     "data": {
      "text/plain": [
       "Network(\n",
       "  (hidden): Linear(in_features=784, out_features=256, bias=True)\n",
       "  (output): Linear(in_features=256, out_features=10, bias=True)\n",
       "  (sigmoid): Sigmoid()\n",
       "  (softmax): Softmax()\n",
       ")"
      ]
     },
     "execution_count": 11,
     "metadata": {},
     "output_type": "execute_result"
    }
   ],
   "source": [
    "# Create the network and look at it's text representation\n",
    "model = Network()\n",
    "model"
   ]
  },
  {
   "cell_type": "markdown",
   "metadata": {},
   "source": [
    "你可以使用 `torch.nn.functional` 模块来更简练清晰地定义网络。这是最常见的网络定义方式，因为很多运算是简单的元素级函数。我们通常将此模块导入为 `F`，即 `import torch.nn.functional as F`。"
   ]
  },
  {
   "cell_type": "code",
   "execution_count": 12,
   "metadata": {},
   "outputs": [],
   "source": [
    "import torch.nn.functional as F\n",
    "\n",
    "class Network(nn.Module):\n",
    "    def __init__(self):\n",
    "        super().__init__()\n",
    "        # Inputs to hidden layer linear transformation\n",
    "        self.hidden = nn.Linear(784, 256)\n",
    "        # Output layer, 10 units - one for each digit\n",
    "        self.output = nn.Linear(256, 10)\n",
    "        \n",
    "    def forward(self, x):\n",
    "        # Hidden layer with sigmoid activation\n",
    "        x = F.sigmoid(self.hidden(x))\n",
    "        # Output layer with softmax activation\n",
    "        x = F.softmax(self.output(x), dim=1)\n",
    "        \n",
    "        return x"
   ]
  },
  {
   "cell_type": "markdown",
   "metadata": {},
   "source": [
    "### 激活函数\n",
    "\n",
    "到目前为止，我们只学习了 softmax 激活函数，但是通常任何函数都可以用作激活函数。但是，要使网络能逼近非线性函数，激活函数必须是非线性函数。下面是一些常见的激活函数示例：Tanh（双曲正切）和 ReLU（修正线性单元）。\n",
    "\n",
    "<img src=\"assets/activation.png\" width=700px>\n",
    "\n",
    "在实践中，ReLU 几乎一直用作隐藏层激活函数。\n",
    "\n",
    "### 构建神经网络\n",
    "\n",
    "<img src=\"assets/mlp_mnist.png\" width=600px>\n",
    "\n",
    "> **练习：**请创建如下网络：输入层有 784 个单元，然后是有 128 个单元的隐藏层和一个 ReLU 激活函数，接着是有 64 个单元的隐藏层和一个 ReLU 激活函数，最终是一个应用 softmax 激活函数的输出层（如上所示）。你可以通过 `nn.ReLU` 模块或 `F.relu` 函数应用 ReLU 激活函数。"
   ]
  },
  {
   "cell_type": "code",
   "execution_count": 25,
   "metadata": {},
   "outputs": [
    {
     "data": {
      "text/plain": [
       "Network(\n",
       "  (fc1): Linear(in_features=784, out_features=128, bias=True)\n",
       "  (fc2): Linear(in_features=128, out_features=64, bias=True)\n",
       "  (fc3): Linear(in_features=64, out_features=10, bias=True)\n",
       ")"
      ]
     },
     "execution_count": 25,
     "metadata": {},
     "output_type": "execute_result"
    }
   ],
   "source": [
    "## Your solution here\n",
    "import torch.nn.functional as F\n",
    "\n",
    "class Network(nn.Module):\n",
    "    def __init__(self):\n",
    "        super().__init__()\n",
    "        # Inputs to hidden layer linear transformation\n",
    "        self.fc1 = nn.Linear(784, 128)\n",
    "        # Output layer, 10 units - one for each digit\n",
    "        self.fc2 = nn.Linear(128, 64)\n",
    "        self.fc3 = nn.Linear(64, 10)\n",
    "        \n",
    "    def forward(self, x):\n",
    "        # Hidden layer with sigmoid activation\n",
    "        x = F.relu(self.fc1(x))\n",
    "        x = F.relu(self.fc2(x))\n",
    "        # Output layer with softmax activation\n",
    "        x = F.softmax(self.fc3(x), dim=1)\n",
    "        \n",
    "        return x\n",
    "\n",
    "model = Network()\n",
    "model"
   ]
  },
  {
   "cell_type": "markdown",
   "metadata": {},
   "source": [
    "### 初始化权重和偏差\n",
    "\n",
    "权重和偏差会自动初始化，但是你可以自定义它们的初始化方式。权重和偏差是附加到所定义层级上的张量，例如，你可以通过 `model.fc1.weight` 获取权重。"
   ]
  },
  {
   "cell_type": "code",
   "execution_count": 21,
   "metadata": {},
   "outputs": [
    {
     "name": "stdout",
     "output_type": "stream",
     "text": [
      "Parameter containing:\n",
      "tensor([[-1.4082e-03,  3.1284e-02, -1.9640e-02,  ...,  1.0335e-02,\n",
      "         -3.1224e-02, -2.5171e-02],\n",
      "        [-9.3086e-03, -8.0389e-03, -3.3329e-02,  ..., -1.0768e-02,\n",
      "          4.5653e-04,  1.6794e-02],\n",
      "        [-1.3129e-02, -2.9920e-02,  1.4865e-02,  ...,  2.0971e-02,\n",
      "          1.8522e-02,  2.7001e-02],\n",
      "        ...,\n",
      "        [-3.4881e-02,  1.0009e-02, -3.8922e-03,  ...,  1.3582e-02,\n",
      "          1.8960e-02, -1.2930e-03],\n",
      "        [-3.0450e-02,  1.7517e-02, -3.3987e-02,  ...,  2.7056e-03,\n",
      "          7.1873e-03, -2.4661e-02],\n",
      "        [ 1.5316e-02,  8.4359e-04, -3.0076e-02,  ..., -2.5735e-02,\n",
      "         -3.2121e-02, -9.2464e-03]])\n",
      "Parameter containing:\n",
      "tensor(1.00000e-02 *\n",
      "       [-1.3477,  2.9908,  1.8782, -3.1802,  3.3545, -1.3189,  2.8405,\n",
      "         0.8392, -2.9746,  1.1544, -1.1316, -0.6883,  0.1962,  2.7756,\n",
      "         2.2293, -1.6975, -1.7767,  3.2766, -0.2785, -0.0185, -2.2559,\n",
      "        -1.1868,  2.8076, -0.3789, -0.1391, -1.7095,  0.7318, -3.1131,\n",
      "         2.1368, -1.9463,  1.6613,  3.1114,  0.1115,  1.8559, -0.4575,\n",
      "        -2.3322,  2.7673,  2.6877, -2.3721,  0.2749,  1.1161,  3.0816,\n",
      "         1.2632, -1.5615,  0.9393,  3.0038,  0.2565, -0.1892,  2.6187,\n",
      "        -0.0580, -1.5124,  2.9728,  2.2693, -2.8348, -0.2942,  0.9738,\n",
      "        -1.2144,  1.3598,  3.0809,  1.7836, -3.1172,  3.2910, -3.1018,\n",
      "        -3.3410, -1.5018,  0.7785,  0.9540,  1.2073, -3.2334, -0.1714,\n",
      "        -0.7885,  2.3930, -2.9025,  1.3560, -3.3402, -2.4067, -0.4197,\n",
      "         2.0335,  1.8795,  1.8312,  3.2455,  0.4777, -2.1745,  1.2311,\n",
      "         2.7313,  1.7357,  1.3083,  1.4924, -3.3102, -2.8553,  0.8198,\n",
      "        -2.5253, -2.4467,  3.4237, -3.0726, -0.7111, -3.4252, -0.9298,\n",
      "         0.7484, -2.4931,  3.1931, -2.0966, -2.1911, -3.1887,  1.6612,\n",
      "        -1.0903, -3.4529,  2.1636, -2.4575,  3.3565, -1.6819,  1.1594,\n",
      "        -0.8256,  0.1492, -2.3751,  3.1137, -0.3981, -1.8099, -1.8491,\n",
      "         0.6314, -1.7719, -2.1824, -1.7603,  3.5027, -1.2562, -1.6331,\n",
      "        -1.7279, -2.2778])\n"
     ]
    }
   ],
   "source": [
    "print(model.fc1.weight)\n",
    "print(model.fc1.bias)"
   ]
  },
  {
   "cell_type": "markdown",
   "metadata": {},
   "source": [
    "要自定义初始化过程，我们需要原地修改这些张量。这些实际上是 autograd *变量*，因此我们需要使用 `model.fc1.weight.data` 获取实际张量。获得张量后，我们可以用 0（对于偏差）或随机正常值填充这些张量。"
   ]
  },
  {
   "cell_type": "code",
   "execution_count": 22,
   "metadata": {},
   "outputs": [
    {
     "data": {
      "text/plain": [
       "tensor([ 0.,  0.,  0.,  0.,  0.,  0.,  0.,  0.,  0.,  0.,  0.,  0.,\n",
       "         0.,  0.,  0.,  0.,  0.,  0.,  0.,  0.,  0.,  0.,  0.,  0.,\n",
       "         0.,  0.,  0.,  0.,  0.,  0.,  0.,  0.,  0.,  0.,  0.,  0.,\n",
       "         0.,  0.,  0.,  0.,  0.,  0.,  0.,  0.,  0.,  0.,  0.,  0.,\n",
       "         0.,  0.,  0.,  0.,  0.,  0.,  0.,  0.,  0.,  0.,  0.,  0.,\n",
       "         0.,  0.,  0.,  0.,  0.,  0.,  0.,  0.,  0.,  0.,  0.,  0.,\n",
       "         0.,  0.,  0.,  0.,  0.,  0.,  0.,  0.,  0.,  0.,  0.,  0.,\n",
       "         0.,  0.,  0.,  0.,  0.,  0.,  0.,  0.,  0.,  0.,  0.,  0.,\n",
       "         0.,  0.,  0.,  0.,  0.,  0.,  0.,  0.,  0.,  0.,  0.,  0.,\n",
       "         0.,  0.,  0.,  0.,  0.,  0.,  0.,  0.,  0.,  0.,  0.,  0.,\n",
       "         0.,  0.,  0.,  0.,  0.,  0.,  0.,  0.])"
      ]
     },
     "execution_count": 22,
     "metadata": {},
     "output_type": "execute_result"
    }
   ],
   "source": [
    "# Set biases to all zeros\n",
    "model.fc1.bias.data.fill_(0)"
   ]
  },
  {
   "cell_type": "code",
   "execution_count": 23,
   "metadata": {},
   "outputs": [
    {
     "data": {
      "text/plain": [
       "tensor([[-1.4144e-02,  5.4128e-03,  2.9444e-03,  ...,  2.0395e-02,\n",
       "         -1.5687e-02, -9.8824e-03],\n",
       "        [-2.7311e-02,  2.5196e-05, -1.6924e-02,  ...,  3.6798e-03,\n",
       "          2.4319e-02, -1.2084e-02],\n",
       "        [ 4.5996e-03, -1.6723e-02, -5.8176e-03,  ...,  3.2624e-03,\n",
       "         -2.5612e-03,  4.2568e-03],\n",
       "        ...,\n",
       "        [ 7.5618e-03,  3.3835e-02,  5.0602e-03,  ..., -5.2817e-03,\n",
       "         -1.2486e-02, -9.4590e-03],\n",
       "        [-4.2070e-03,  4.3519e-03,  1.8297e-02,  ...,  1.1567e-02,\n",
       "          5.0113e-04, -5.3608e-03],\n",
       "        [-1.6994e-02,  1.2144e-02,  9.4195e-03,  ..., -1.4688e-02,\n",
       "         -2.7306e-03, -1.5823e-02]])"
      ]
     },
     "execution_count": 23,
     "metadata": {},
     "output_type": "execute_result"
    }
   ],
   "source": [
    "# sample from random normal with standard dev = 0.01\n",
    "model.fc1.weight.data.normal_(std=0.01)"
   ]
  },
  {
   "cell_type": "markdown",
   "metadata": {},
   "source": [
    "### 前向传递\n",
    "\n",
    "我们已经创建好网络，看看传入图像后会发生什么。"
   ]
  },
  {
   "cell_type": "code",
   "execution_count": 26,
   "metadata": {},
   "outputs": [
    {
     "data": {
      "image/png": "[encoded data removed]",
      "text/plain": [
       "<matplotlib.figure.Figure at 0x7fa15e16b6d8>"
      ]
     },
     "metadata": {
      "image/png": {
       "height": 224,
       "width": 423
      },
      "needs_background": "light"
     },
     "output_type": "display_data"
    }
   ],
   "source": [
    "# Grab some data \n",
    "dataiter = iter(trainloader)\n",
    "images, labels = dataiter.next()\n",
    "\n",
    "# Resize images into a 1D vector, new shape is (batch size, color channels, image pixels) \n",
    "images.resize_(64, 1, 784)\n",
    "# or images.resize_(images.shape[0], 1, 784) to automatically get batch size\n",
    "\n",
    "# Forward pass through the network\n",
    "img_idx = 0\n",
    "ps = model.forward(images[img_idx,:])\n",
    "\n",
    "img = images[img_idx]\n",
    "helper.view_classify(img.view(1, 28, 28), ps)"
   ]
  },
  {
   "cell_type": "markdown",
   "metadata": {},
   "source": [
    "是的，我们的网络还不能判断出这个数字。这是因为我们尚未训练它，所有权重都是随机的！\n",
    "\n",
    "### 使用 `nn.Sequential`\n",
    "\n",
    "PyTorch 提供了一种方便的方法来构建这类网络（其中张量按顺序执行各种运算）：`nn.Sequential` ([文档](https://pytorch.org/docs/master/nn.html#torch.nn.Sequential))。使用它来构建等效网络："
   ]
  },
  {
   "cell_type": "code",
   "execution_count": 28,
   "metadata": {},
   "outputs": [
    {
     "name": "stdout",
     "output_type": "stream",
     "text": [
      "Sequential(\n",
      "  (0): Linear(in_features=784, out_features=128, bias=True)\n",
      "  (1): ReLU()\n",
      "  (2): Linear(in_features=128, out_features=64, bias=True)\n",
      "  (3): ReLU()\n",
      "  (4): Linear(in_features=64, out_features=10, bias=True)\n",
      "  (5): Softmax()\n",
      ")\n"
     ]
    },
    {
     "data": {
      "image/png": "[encoded data removed]",
      "text/plain": [
       "<matplotlib.figure.Figure at 0x7fa158b40a58>"
      ]
     },
     "metadata": {
      "image/png": {
       "height": 224,
       "width": 423
      },
      "needs_background": "light"
     },
     "output_type": "display_data"
    }
   ],
   "source": [
    "# Hyperparameters for our network\n",
    "input_size = 784\n",
    "hidden_sizes = [128, 64]\n",
    "output_size = 10\n",
    "\n",
    "# Build a feed-forward network\n",
    "model = nn.Sequential(nn.Linear(input_size, hidden_sizes[0]),\n",
    "                      nn.ReLU(),\n",
    "                      nn.Linear(hidden_sizes[0], hidden_sizes[1]),\n",
    "                      nn.ReLU(),\n",
    "                      nn.Linear(hidden_sizes[1], output_size),\n",
    "                      nn.Softmax(dim=1))\n",
    "print(model)\n",
    "\n",
    "# Forward pass through the network and display output\n",
    "images, labels = next(iter(trainloader))\n",
    "images.resize_(images.shape[0], 1, 784)\n",
    "ps = model.forward(images[0,:])\n",
    "helper.view_classify(images[0].view(1, 28, 28), ps)"
   ]
  },
  {
   "cell_type": "markdown",
   "metadata": {},
   "source": [
    "模型和之前一样：输入层有 784 个单元，然后是有 128 个单元的隐藏层和一个 ReLU 激活函数，然后是有 64 个单元的隐藏层和另一个 ReLU 激活函数，然后是有 10 个单元的输出层和 softmax 输出。\n",
    "\n",
    "通过传入相应的索引即可执行运算。例如，如果你想获得第一个线性运算并查看权重，可以使用 `model[0]`。"
   ]
  },
  {
   "cell_type": "code",
   "execution_count": 29,
   "metadata": {},
   "outputs": [
    {
     "name": "stdout",
     "output_type": "stream",
     "text": [
      "Linear(in_features=784, out_features=128, bias=True)\n"
     ]
    },
    {
     "data": {
      "text/plain": [
       "Parameter containing:\n",
       "tensor([[ 1.8622e-02, -6.1249e-03,  1.0515e-02,  ..., -2.5868e-02,\n",
       "         -7.4859e-03, -1.9099e-02],\n",
       "        [ 1.6391e-02, -2.1793e-04, -1.4807e-02,  ...,  2.2113e-02,\n",
       "          6.6639e-03,  4.5516e-03],\n",
       "        [-2.8136e-02,  1.2457e-02, -1.5575e-02,  ...,  2.0600e-03,\n",
       "          2.9066e-02,  1.1538e-02],\n",
       "        ...,\n",
       "        [-3.1485e-02,  7.6405e-03, -2.2950e-02,  ..., -3.3471e-03,\n",
       "          2.2070e-02, -2.6061e-02],\n",
       "        [-8.0708e-03, -1.5310e-02, -2.2717e-02,  ...,  2.4758e-02,\n",
       "          8.7318e-03, -1.5251e-02],\n",
       "        [ 1.2162e-02,  1.4517e-02,  1.5738e-02,  ...,  1.4896e-02,\n",
       "          1.4990e-02,  3.2935e-02]])"
      ]
     },
     "execution_count": 29,
     "metadata": {},
     "output_type": "execute_result"
    }
   ],
   "source": [
    "print(model[0])\n",
    "model[0].weight"
   ]
  },
  {
   "cell_type": "markdown",
   "metadata": {},
   "source": [
    "还可以传入 `OrderedDict` 以命名单个层级和运算，而不是使用递增的整数。注意，因为字典键必须是唯一的，所以_每个运算都必须具有不同的名称_。"
   ]
  },
  {
   "cell_type": "code",
   "execution_count": 30,
   "metadata": {},
   "outputs": [
    {
     "data": {
      "text/plain": [
       "Sequential(\n",
       "  (fc1): Linear(in_features=784, out_features=128, bias=True)\n",
       "  (relu1): ReLU()\n",
       "  (fc2): Linear(in_features=128, out_features=64, bias=True)\n",
       "  (relu2): ReLU()\n",
       "  (output): Linear(in_features=64, out_features=10, bias=True)\n",
       "  (softmax): Softmax()\n",
       ")"
      ]
     },
     "execution_count": 30,
     "metadata": {},
     "output_type": "execute_result"
    }
   ],
   "source": [
    "from collections import OrderedDict\n",
    "model = nn.Sequential(OrderedDict([\n",
    "                      ('fc1', nn.Linear(input_size, hidden_sizes[0])),\n",
    "                      ('relu1', nn.ReLU()),\n",
    "                      ('fc2', nn.Linear(hidden_sizes[0], hidden_sizes[1])),\n",
    "                      ('relu2', nn.ReLU()),\n",
    "                      ('output', nn.Linear(hidden_sizes[1], output_size)),\n",
    "                      ('softmax', nn.Softmax(dim=1))]))\n",
    "model"
   ]
  },
  {
   "cell_type": "markdown",
   "metadata": {},
   "source": [
    "现在你可以通过整数或名称访问层级了"
   ]
  },
  {
   "cell_type": "code",
   "execution_count": 31,
   "metadata": {},
   "outputs": [
    {
     "name": "stdout",
     "output_type": "stream",
     "text": [
      "Linear(in_features=784, out_features=128, bias=True)\n",
      "Linear(in_features=784, out_features=128, bias=True)\n"
     ]
    }
   ],
   "source": [
    "print(model[0])\n",
    "print(model.fc1)"
   ]
  },
  {
   "cell_type": "markdown",
   "metadata": {},
   "source": [
    "在下个 notebook 中，我们将学习如何训练神经网络，以便准确预测 MNIST 图像中出现的数字。"
   ]
  }
 ],
 "metadata": {
  "kernelspec": {
   "display_name": "Python 3",
   "language": "python",
   "name": "python3"
  },
  "language_info": {
   "codemirror_mode": {
    "name": "ipython",
    "version": 3
   },
   "file_extension": ".py",
   "mimetype": "text/x-python",
   "name": "python",
   "nbconvert_exporter": "python",
   "pygments_lexer": "ipython3",
   "version": "3.6.3"
  }
 },
 "nbformat": 4,
 "nbformat_minor": 2
}
