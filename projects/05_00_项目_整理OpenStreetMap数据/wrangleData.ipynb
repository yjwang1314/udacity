{
 "cells": [
  {
   "cell_type": "markdown",
   "metadata": {
    "toc": true
   },
   "source": [
    "<h1>Table of Contents<span class=\"tocSkip\"></span></h1>\n",
    "<div class=\"toc\"><ul class=\"toc-item\"><li><span><a href=\"#初步探索数据\" data-toc-modified-id=\"初步探索数据-1\"><span class=\"toc-item-num\">1&nbsp;&nbsp;</span>初步探索数据</a></span><ul class=\"toc-item\"><li><span><a href=\"#标签数量\" data-toc-modified-id=\"标签数量-1.1\"><span class=\"toc-item-num\">1.1&nbsp;&nbsp;</span>标签数量</a></span></li><li><span><a href=\"#数据问题\" data-toc-modified-id=\"数据问题-1.2\"><span class=\"toc-item-num\">1.2&nbsp;&nbsp;</span>数据问题</a></span></li><li><span><a href=\"#数据整理-&amp;-数据整理中遇到的挑战\" data-toc-modified-id=\"数据整理-&amp;-数据整理中遇到的挑战-1.3\"><span class=\"toc-item-num\">1.3&nbsp;&nbsp;</span>数据整理 &amp; 数据整理中遇到的挑战</a></span></li><li><span><a href=\"#导入数据库\" data-toc-modified-id=\"导入数据库-1.4\"><span class=\"toc-item-num\">1.4&nbsp;&nbsp;</span>导入数据库</a></span></li></ul></li><li><span><a href=\"#数据概述\" data-toc-modified-id=\"数据概述-2\"><span class=\"toc-item-num\">2&nbsp;&nbsp;</span>数据概述</a></span><ul class=\"toc-item\"><li><span><a href=\"#文件大小\" data-toc-modified-id=\"文件大小-2.1\"><span class=\"toc-item-num\">2.1&nbsp;&nbsp;</span>文件大小</a></span></li><li><span><a href=\"#各种数量统计\" data-toc-modified-id=\"各种数量统计-2.2\"><span class=\"toc-item-num\">2.2&nbsp;&nbsp;</span>各种数量统计</a></span><ul class=\"toc-item\"><li><span><a href=\"#唯一用户的数量\" data-toc-modified-id=\"唯一用户的数量-2.2.1\"><span class=\"toc-item-num\">2.2.1&nbsp;&nbsp;</span>唯一用户的数量</a></span></li><li><span><a href=\"#节点和途径的数量\" data-toc-modified-id=\"节点和途径的数量-2.2.2\"><span class=\"toc-item-num\">2.2.2&nbsp;&nbsp;</span>节点和途径的数量</a></span></li><li><span><a href=\"#所选节点类型（如：咖啡店、商店等）的数量\" data-toc-modified-id=\"所选节点类型（如：咖啡店、商店等）的数量-2.2.3\"><span class=\"toc-item-num\">2.2.3&nbsp;&nbsp;</span>所选节点类型（如：咖啡店、商店等）的数量</a></span></li></ul></li></ul></li><li><span><a href=\"#关于数据集的其他想法\" data-toc-modified-id=\"关于数据集的其他想法-3\"><span class=\"toc-item-num\">3&nbsp;&nbsp;</span>关于数据集的其他想法</a></span></li></ul></div>"
   ]
  },
  {
   "cell_type": "markdown",
   "metadata": {},
   "source": [
    "## 初步探索数据\n",
    "### 标签数量\n"
   ]
  },
  {
   "cell_type": "code",
   "execution_count": null,
   "metadata": {},
   "outputs": [],
   "source": [
    "#!/usr/bin/env python\n",
    "# -*- coding: utf-8 -*-\n",
    "\"\"\"\n",
    "Your task is to use the iterative parsing to process the map file and\n",
    "find out not only what tags are there, but also how many, to get the\n",
    "feeling on how much of which data you can expect to have in the map.\n",
    "Fill out the count_tags function. It should return a dictionary with the \n",
    "tag name as the key and number of times this tag can be encountered in \n",
    "the map as value.\n",
    "\n",
    "Note that your code will be tested with a different data file than the 'example.osm'\n",
    "\"\"\"\n",
    "import xml.etree.cElementTree as ET\n",
    "import pprint\n",
    "\n",
    "# 计数标签数量\n",
    "def count_tags(filename):\n",
    "    tags_list = []\n",
    "    for event, elem in ET.iterparse(filename):\n",
    "        tags_list.append(elem.tag)\n",
    "    tags = list(set(tags_list))\n",
    "    tags = dict(map(lambda x: [x, tags_list.count(x)], tags))\n",
    "    return tags\n",
    "\n",
    "def test():\n",
    "\n",
    "    tags = count_tags('map_1.osm')\n",
    "    pprint.pprint(tags)\n",
    "\n",
    "if __name__ == \"__main__\":\n",
    "    test()"
   ]
  },
  {
   "cell_type": "markdown",
   "metadata": {},
   "source": [
    "### 数据问题 "
   ]
  },
  {
   "cell_type": "code",
   "execution_count": null,
   "metadata": {},
   "outputs": [],
   "source": []
  },
  {
   "cell_type": "markdown",
   "metadata": {},
   "source": [
    "### 数据整理 & 数据整理中遇到的挑战"
   ]
  },
  {
   "cell_type": "markdown",
   "metadata": {},
   "source": [
    "### 导入数据库"
   ]
  },
  {
   "cell_type": "markdown",
   "metadata": {},
   "source": [
    "## 数据概述"
   ]
  },
  {
   "cell_type": "markdown",
   "metadata": {},
   "source": [
    "### 文件大小"
   ]
  },
  {
   "cell_type": "markdown",
   "metadata": {},
   "source": [
    "### 各种数量统计\n",
    "\n",
    "#### 唯一用户的数量\n",
    "\n",
    "#### 节点和途径的数量\n",
    "\n",
    "#### 所选节点类型（如：咖啡店、商店等）的数量"
   ]
  },
  {
   "cell_type": "markdown",
   "metadata": {},
   "source": [
    "## 关于数据集的其他想法\n",
    "\n",
    "提交文件包含一个或多个用于改进或分析数据的额外建议\n",
    "\n",
    "提交文件中详尽地讨论了实施改进的益处及一些预期的问题"
   ]
  },
  {
   "cell_type": "code",
   "execution_count": null,
   "metadata": {},
   "outputs": [],
   "source": [
    "way_list = []\n",
    "for event, elem in ET.iterparse('map_1.osm'):\n",
    "    if elem.tag == 'way':\n",
    "        way_list.append(elem.attrib)"
   ]
  },
  {
   "cell_type": "code",
   "execution_count": null,
   "metadata": {},
   "outputs": [],
   "source": [
    "print way_list[1]['user']"
   ]
  }
 ],
 "metadata": {
  "kernelspec": {
   "display_name": "Python 2",
   "language": "python",
   "name": "python2"
  },
  "language_info": {
   "codemirror_mode": {
    "name": "ipython",
    "version": 2
   },
   "file_extension": ".py",
   "mimetype": "text/x-python",
   "name": "python",
   "nbconvert_exporter": "python",
   "pygments_lexer": "ipython2",
   "version": "2.7.8"
  },
  "toc": {
   "nav_menu": {},
   "number_sections": true,
   "sideBar": true,
   "skip_h1_title": false,
   "title_cell": "Table of Contents",
   "title_sidebar": "Contents",
   "toc_cell": true,
   "toc_position": {
    "height": "calc(100% - 180px)",
    "left": "10px",
    "top": "150px",
    "width": "217px"
   },
   "toc_section_display": true,
   "toc_window_display": false
  },
  "varInspector": {
   "cols": {
    "lenName": 16,
    "lenType": 16,
    "lenVar": 40
   },
   "kernels_config": {
    "python": {
     "delete_cmd_postfix": "",
     "delete_cmd_prefix": "del ",
     "library": "var_list.py",
     "varRefreshCmd": "print(var_dic_list())"
    },
    "r": {
     "delete_cmd_postfix": ") ",
     "delete_cmd_prefix": "rm(",
     "library": "var_list.r",
     "varRefreshCmd": "cat(var_dic_list()) "
    }
   },
   "types_to_exclude": [
    "module",
    "function",
    "builtin_function_or_method",
    "instance",
    "_Feature"
   ],
   "window_display": false
  }
 },
 "nbformat": 4,
 "nbformat_minor": 2
}
