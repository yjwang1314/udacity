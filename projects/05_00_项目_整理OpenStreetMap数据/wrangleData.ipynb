{
 "cells": [
  {
   "cell_type": "markdown",
   "metadata": {
    "toc": true
   },
   "source": [
    "<h1>Table of Contents<span class=\"tocSkip\"></span></h1>\n",
    "<div class=\"toc\"><ul class=\"toc-item\"><li><span><a href=\"#初步探索数据\" data-toc-modified-id=\"初步探索数据-1\"><span class=\"toc-item-num\">1&nbsp;&nbsp;</span>初步探索数据</a></span><ul class=\"toc-item\"><li><span><a href=\"#标签数量\" data-toc-modified-id=\"标签数量-1.1\"><span class=\"toc-item-num\">1.1&nbsp;&nbsp;</span>标签数量</a></span></li><li><span><a href=\"#数据问题\" data-toc-modified-id=\"数据问题-1.2\"><span class=\"toc-item-num\">1.2&nbsp;&nbsp;</span>数据问题</a></span></li><li><span><a href=\"#导入数据库\" data-toc-modified-id=\"导入数据库-1.3\"><span class=\"toc-item-num\">1.3&nbsp;&nbsp;</span>导入数据库</a></span></li></ul></li><li><span><a href=\"#数据概述\" data-toc-modified-id=\"数据概述-2\"><span class=\"toc-item-num\">2&nbsp;&nbsp;</span>数据概述</a></span><ul class=\"toc-item\"><li><span><a href=\"#文件大小\" data-toc-modified-id=\"文件大小-2.1\"><span class=\"toc-item-num\">2.1&nbsp;&nbsp;</span>文件大小</a></span></li><li><span><a href=\"#各种数量统计\" data-toc-modified-id=\"各种数量统计-2.2\"><span class=\"toc-item-num\">2.2&nbsp;&nbsp;</span>各种数量统计</a></span><ul class=\"toc-item\"><li><span><a href=\"#唯一用户的数量\" data-toc-modified-id=\"唯一用户的数量-2.2.1\"><span class=\"toc-item-num\">2.2.1&nbsp;&nbsp;</span>唯一用户的数量</a></span></li><li><span><a href=\"#节点和途径的数量\" data-toc-modified-id=\"节点和途径的数量-2.2.2\"><span class=\"toc-item-num\">2.2.2&nbsp;&nbsp;</span>节点和途径的数量</a></span></li><li><span><a href=\"#所选节点类型（如：咖啡店、商店等）的数量\" data-toc-modified-id=\"所选节点类型（如：咖啡店、商店等）的数量-2.2.3\"><span class=\"toc-item-num\">2.2.3&nbsp;&nbsp;</span>所选节点类型（如：咖啡店、商店等）的数量</a></span></li></ul></li></ul></li><li><span><a href=\"#关于数据集的其他想法\" data-toc-modified-id=\"关于数据集的其他想法-3\"><span class=\"toc-item-num\">3&nbsp;&nbsp;</span>关于数据集的其他想法</a></span></li><li><span><a href=\"#参考\" data-toc-modified-id=\"参考-4\"><span class=\"toc-item-num\">4&nbsp;&nbsp;</span>参考</a></span></li></ul></div>"
   ]
  },
  {
   "cell_type": "markdown",
   "metadata": {},
   "source": [
    "## 初步探索数据\n",
    "### 标签数量\n"
   ]
  },
  {
   "cell_type": "code",
   "execution_count": 1,
   "metadata": {},
   "outputs": [
    {
     "name": "stdout",
     "output_type": "stream",
     "text": [
      "{'bounds': 1,\n",
      " 'member': 90313,\n",
      " 'meta': 1,\n",
      " 'nd': 247396,\n",
      " 'node': 211387,\n",
      " 'note': 1,\n",
      " 'osm': 1,\n",
      " 'relation': 1470,\n",
      " 'tag': 93489,\n",
      " 'way': 28780}\n"
     ]
    }
   ],
   "source": [
    "#!/usr/bin/env python\n",
    "# -*- coding: utf-8 -*-\n",
    "\"\"\"\n",
    "Your task is to use the iterative parsing to process the map file and\n",
    "find out not only what tags are there, but also how many, to get the\n",
    "feeling on how much of which data you can expect to have in the map.\n",
    "Fill out the count_tags function. It should return a dictionary with the \n",
    "tag name as the key and number of times this tag can be encountered in \n",
    "the map as value.\n",
    "\n",
    "Note that your code will be tested with a different data file than the 'example.osm'\n",
    "\"\"\"\n",
    "import xml.etree.cElementTree as ET\n",
    "import pprint\n",
    "\n",
    "# 计数标签数量\n",
    "def count_tags(filename):\n",
    "    tags_list = []\n",
    "    for event, elem in ET.iterparse(filename):\n",
    "        tags_list.append(elem.tag)\n",
    "    tags = list(set(tags_list))\n",
    "    tags = dict(map(lambda x: [x, tags_list.count(x)], tags))\n",
    "    return tags\n",
    "\n",
    "def test():\n",
    "\n",
    "    tags = count_tags('map.osm')\n",
    "    pprint.pprint(tags)\n",
    "\n",
    "if __name__ == \"__main__\":\n",
    "    test()"
   ]
  },
  {
   "cell_type": "markdown",
   "metadata": {},
   "source": [
    "### 数据问题 "
   ]
  },
  {
   "cell_type": "markdown",
   "metadata": {},
   "source": [
    "下载了广州市区的地图数据，审查数据质量，发现地址的问题有这些："
   ]
  },
  {
   "cell_type": "markdown",
   "metadata": {},
   "source": [
    "{'39': set(['Hong Road No 39']),\n",
    " u'510610': set([u'China, Guangdong Sheng, Guangzhou Shi, Tianhe Qu, TianHe GongYuan, Tianhe Rd, \\u592a\\u53e4\\u6c47L307\\u53f7, \\u90ae\\u653f\\u7f16\\u7801: 510610']),\n",
    " 'Bilu': set(['Lang wang Bilu']),\n",
    " u'East': set([u'\\u73e0\\u6c5f\\u4e1c\\u8def Zhujiang Road East']),\n",
    " 'Guangdong,': set(['Room 322, Jintao Building,26# Guangyuanzhong Road, Baiyun District,Guangzhou, Guangdong,']),\n",
    " 'Guangzhou': set(['Dishifu Road, Guangzhou',\n",
    "                   'Room 1302, E2 Building, Jin Gui Yuan, #6 Jin Gui Jie, Jie Fang Bei Lu, Bai Yun District, Guangzhou']),\n",
    " u'Lu': set([u'\\u6ee8\\u6c5f\\u4e1c\\u8def Binjiang Dong Lu']),\n",
    " u'Rd': set(['Linhe West Cross Rd',\n",
    "             'Liurong Rd',\n",
    "             u'\\u5185\\u73af\\u8def Inner Ring Rd']),\n",
    " u'Shop': set([u'\\u6c99\\u592a\\u5357\\u8def, upstairs in Health food Shop']),\n",
    " 'St': set(['Yanyu S St']),\n",
    " u'West': set([u'\\u73e0\\u6c5f\\u897f\\u8def Zhujiang Road West']),\n",
    " 'Xi': set(['Huang Pu Dadao Xi']),\n",
    " 'ave': set(['baogang ave']),\n",
    " 'road': set(['Huacheng road']),\n",
    " 'road)': set(['Chigang Lu (road)'])}"
   ]
  },
  {
   "cell_type": "markdown",
   "metadata": {},
   "source": [
    "总结起来，主要有以下问题：\n",
    "\n",
    "- 地址英文名的缩写和大小写问题，如('Linhe West Cross Rd')\n",
    "- 地址英文的翻译问题，如('Huang Pu Dadao Xi')\n",
    "\n",
    "接下来更详细地讨论以上问题"
   ]
  },
  {
   "cell_type": "markdown",
   "metadata": {},
   "source": [
    "**地址英文名的缩写问题**"
   ]
  },
  {
   "cell_type": "markdown",
   "metadata": {},
   "source": [
    "地图数据中发现地址英文名存在有些缩写，有些没有缩写的情况，需要规范这些数据的统一性，统一不缩写，例如把'Linhe West Cross Rd'变成'Linhe West Cross Road'，同样大小写的问题也用相同的处理办法。"
   ]
  },
  {
   "cell_type": "markdown",
   "metadata": {},
   "source": [
    "**地址英文的翻译问题**"
   ]
  },
  {
   "cell_type": "markdown",
   "metadata": {},
   "source": [
    "英文翻译问题比较复杂，存在的问题如'China, Guangdong Sheng, Guangzhou Shi, Tianhe Qu, TianHe GongYuan, Tianhe Rd'，英文地址中某些部分直接是拼音，如Sheng, Shi, Qu, Jie, Lu...若考虑数据的统一性，把拼音部分转成英文需要判断该拼音是否是省、市、区、街、路等意思 ，存在一定困难。\n",
    "折中办法是只转换地址最后一个字的拼音，因为这样处理没那么复杂。"
   ]
  },
  {
   "cell_type": "code",
   "execution_count": null,
   "metadata": {},
   "outputs": [],
   "source": []
  },
  {
   "cell_type": "code",
   "execution_count": null,
   "metadata": {},
   "outputs": [],
   "source": []
  },
  {
   "cell_type": "code",
   "execution_count": null,
   "metadata": {},
   "outputs": [],
   "source": []
  },
  {
   "cell_type": "markdown",
   "metadata": {},
   "source": []
  },
  {
   "cell_type": "markdown",
   "metadata": {},
   "source": [
    "### 导入数据库"
   ]
  },
  {
   "cell_type": "markdown",
   "metadata": {},
   "source": [
    "## 数据概述"
   ]
  },
  {
   "cell_type": "markdown",
   "metadata": {},
   "source": [
    "### 文件大小"
   ]
  },
  {
   "cell_type": "markdown",
   "metadata": {},
   "source": [
    "### 各种数量统计\n",
    "\n",
    "#### 唯一用户的数量\n",
    "\n",
    "#### 节点和途径的数量\n",
    "\n",
    "#### 所选节点类型（如：咖啡店、商店等）的数量"
   ]
  },
  {
   "cell_type": "markdown",
   "metadata": {},
   "source": [
    "## 关于数据集的其他想法\n",
    "\n",
    "提交文件包含一个或多个用于改进或分析数据的额外建议\n",
    "\n",
    "提交文件中详尽地讨论了实施改进的益处及一些预期的问题"
   ]
  },
  {
   "cell_type": "code",
   "execution_count": null,
   "metadata": {},
   "outputs": [],
   "source": [
    "way_list = []\n",
    "for event, elem in ET.iterparse('map_1.osm'):\n",
    "    if elem.tag == 'way':\n",
    "        way_list.append(elem.attrib)"
   ]
  },
  {
   "cell_type": "code",
   "execution_count": null,
   "metadata": {},
   "outputs": [],
   "source": [
    "print way_list[1]['user']"
   ]
  },
  {
   "cell_type": "markdown",
   "metadata": {},
   "source": [
    "## 参考\n",
    "- https://github.com/j450h1/P3-Data-Wrangling-with-MongoDB\n",
    "- http://nbviewer.jupyter.org/github/jm974/openstreetmap/blob/master/OpenStreetMap.ipynb\n",
    "- http://nbviewer.jupyter.org/github/tychen927/openstreetmap_mongoDB/blob/master/main.ipynb"
   ]
  }
 ],
 "metadata": {
  "kernelspec": {
   "display_name": "Python 2",
   "language": "python",
   "name": "python2"
  },
  "language_info": {
   "codemirror_mode": {
    "name": "ipython",
    "version": 2
   },
   "file_extension": ".py",
   "mimetype": "text/x-python",
   "name": "python",
   "nbconvert_exporter": "python",
   "pygments_lexer": "ipython2",
   "version": "2.7.13"
  },
  "toc": {
   "nav_menu": {},
   "number_sections": true,
   "sideBar": true,
   "skip_h1_title": false,
   "title_cell": "Table of Contents",
   "title_sidebar": "Contents",
   "toc_cell": true,
   "toc_position": {
    "height": "calc(100% - 180px)",
    "left": "10px",
    "top": "150px",
    "width": "217px"
   },
   "toc_section_display": true,
   "toc_window_display": false
  },
  "varInspector": {
   "cols": {
    "lenName": 16,
    "lenType": 16,
    "lenVar": 40
   },
   "kernels_config": {
    "python": {
     "delete_cmd_postfix": "",
     "delete_cmd_prefix": "del ",
     "library": "var_list.py",
     "varRefreshCmd": "print(var_dic_list())"
    },
    "r": {
     "delete_cmd_postfix": ") ",
     "delete_cmd_prefix": "rm(",
     "library": "var_list.r",
     "varRefreshCmd": "cat(var_dic_list()) "
    }
   },
   "types_to_exclude": [
    "module",
    "function",
    "builtin_function_or_method",
    "instance",
    "_Feature"
   ],
   "window_display": false
  }
 },
 "nbformat": 4,
 "nbformat_minor": 2
}
